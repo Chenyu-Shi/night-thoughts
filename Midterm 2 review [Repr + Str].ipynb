{
 "cells": [
  {
   "cell_type": "markdown",
   "metadata": {},
   "source": [
    "# Part 1 repr and str methods \n",
    "I am creating this dummy class that takes in three things and store them inside the object. It's a kind of like a list, except it stores three things only."
   ]
  },
  {
   "cell_type": "code",
   "execution_count": 48,
   "metadata": {},
   "outputs": [],
   "source": [
    "class dummy:\n",
    "    def __init__(self,variable1,variable2,variable3):\n",
    "        self.v1=variable1\n",
    "        self.v2=variable2\n",
    "        self.v3=variable3\n",
    "        \n",
    "    def __repr__(self):\n",
    "        return \"dummy({0},{1},{2})\".format(self.v1,self.v2,self.v3)\n",
    "    \n",
    "    def __str__(self):\n",
    "        return \"This class contains these three things: {0} {1} {2} .\".format(self.v1,self.v2,self.v3)"
   ]
  },
  {
   "cell_type": "markdown",
   "metadata": {},
   "source": [
    "#### Case 1: when you create a new instance without assigning that to a variable name, the repr method is called implicitly. No quotation marks are displayed. This implicit function call often gets overlooked. "
   ]
  },
  {
   "cell_type": "code",
   "execution_count": 49,
   "metadata": {},
   "outputs": [
    {
     "data": {
      "text/plain": [
       "dummy(1,2,3)"
      ]
     },
     "execution_count": 49,
     "metadata": {},
     "output_type": "execute_result"
    }
   ],
   "source": [
    "dummy(1,2,3)"
   ]
  },
  {
   "cell_type": "markdown",
   "metadata": {},
   "source": [
    "#### Case 2: Nothing gets printed when you assign that to a variable"
   ]
  },
  {
   "cell_type": "code",
   "execution_count": 50,
   "metadata": {
    "collapsed": true
   },
   "outputs": [],
   "source": [
    "variable=dummy(1,2,3)"
   ]
  },
  {
   "cell_type": "markdown",
   "metadata": {},
   "source": [
    "#### Case 3: explicit __repr__ and repr calls produce the same results. This time, quotation marks are displayed"
   ]
  },
  {
   "cell_type": "code",
   "execution_count": 51,
   "metadata": {},
   "outputs": [
    {
     "data": {
      "text/plain": [
       "'dummy(1,2,3)'"
      ]
     },
     "execution_count": 51,
     "metadata": {},
     "output_type": "execute_result"
    }
   ],
   "source": [
    "variable.__repr__()"
   ]
  },
  {
   "cell_type": "code",
   "execution_count": 52,
   "metadata": {},
   "outputs": [
    {
     "data": {
      "text/plain": [
       "'dummy(1,2,3)'"
      ]
     },
     "execution_count": 52,
     "metadata": {},
     "output_type": "execute_result"
    }
   ],
   "source": [
    "repr(variable)"
   ]
  },
  {
   "cell_type": "markdown",
   "metadata": {},
   "source": [
    "#### On a side note, when repr is called on an instance, the function returns how the instance was constructed. In other words, you can write the string into a text file and have python read it later to reproduce a copy of the instance. \n",
    "#### Eval function does the reproduction part. It pretty much removes the quotation marks and try to read the string like a line of input into the python interpreter. That's why eval(repr(a)) should ideally return a, whatever a is. \n"
   ]
  },
  {
   "cell_type": "markdown",
   "metadata": {},
   "source": [
    "#### Case 4: explicitly calling str() and `__str__() produce the same result. The resultant string gets displayed with quotation marks."
   ]
  },
  {
   "cell_type": "code",
   "execution_count": 53,
   "metadata": {},
   "outputs": [
    {
     "data": {
      "text/plain": [
       "'This class contains these three things: 1 2 3 .'"
      ]
     },
     "execution_count": 53,
     "metadata": {},
     "output_type": "execute_result"
    }
   ],
   "source": [
    "str(variable)"
   ]
  },
  {
   "cell_type": "code",
   "execution_count": 54,
   "metadata": {},
   "outputs": [
    {
     "data": {
      "text/plain": [
       "'This class contains these three things: 1 2 3 .'"
      ]
     },
     "execution_count": 54,
     "metadata": {},
     "output_type": "execute_result"
    }
   ],
   "source": [
    "variable.__str__()"
   ]
  },
  {
   "cell_type": "markdown",
   "metadata": {},
   "source": [
    "#### Case 5: print function calls str implicitly and does not produce quotation marks"
   ]
  },
  {
   "cell_type": "code",
   "execution_count": 55,
   "metadata": {},
   "outputs": [
    {
     "name": "stdout",
     "output_type": "stream",
     "text": [
      "This class contains these three things: 1 2 3 .\n"
     ]
    }
   ],
   "source": [
    "print(variable)"
   ]
  },
  {
   "cell_type": "markdown",
   "metadata": {},
   "source": [
    "## A brief recap: \n",
    "### 1. implicit calls do not produce quotation marks\n",
    "### 2. explicit calls are pretty straight forward\n",
    "### 3. print corresponds to str, and representing an instance corresponds to repr"
   ]
  }
 ],
 "metadata": {
  "kernelspec": {
   "display_name": "Python 3",
   "language": "python",
   "name": "python3"
  },
  "language_info": {
   "codemirror_mode": {
    "name": "ipython",
    "version": 3
   },
   "file_extension": ".py",
   "mimetype": "text/x-python",
   "name": "python",
   "nbconvert_exporter": "python",
   "pygments_lexer": "ipython3",
   "version": "3.6.1"
  }
 },
 "nbformat": 4,
 "nbformat_minor": 2
}
